{
  "cells": [
    {
      "cell_type": "code",
      "execution_count": 1,
      "id": "81adcf8b-395a-4f02-8749-ac976942b446",
      "metadata": {
        "colab": {
          "base_uri": "https://localhost:8080/"
        },
        "id": "81adcf8b-395a-4f02-8749-ac976942b446",
        "outputId": "09575811-56d0-41ce-d09f-33230b5e91bf"
      },
      "outputs": [
        {
          "output_type": "stream",
          "name": "stdout",
          "text": [
            "Collecting langchain\n",
            "  Downloading langchain-0.1.1-py3-none-any.whl (802 kB)\n",
            "\u001b[2K     \u001b[90m━━━━━━━━━━━━━━━━━━━━━━━━━━━━━━━━━━━━━━━━\u001b[0m \u001b[32m802.4/802.4 kB\u001b[0m \u001b[31m7.2 MB/s\u001b[0m eta \u001b[36m0:00:00\u001b[0m\n",
            "\u001b[?25hCollecting openai\n",
            "  Downloading openai-1.8.0-py3-none-any.whl (222 kB)\n",
            "\u001b[2K     \u001b[90m━━━━━━━━━━━━━━━━━━━━━━━━━━━━━━━━━━━━━━━━\u001b[0m \u001b[32m222.3/222.3 kB\u001b[0m \u001b[31m14.3 MB/s\u001b[0m eta \u001b[36m0:00:00\u001b[0m\n",
            "\u001b[?25hRequirement already satisfied: PyYAML>=5.3 in /usr/local/lib/python3.10/dist-packages (from langchain) (6.0.1)\n",
            "Requirement already satisfied: SQLAlchemy<3,>=1.4 in /usr/local/lib/python3.10/dist-packages (from langchain) (2.0.24)\n",
            "Requirement already satisfied: aiohttp<4.0.0,>=3.8.3 in /usr/local/lib/python3.10/dist-packages (from langchain) (3.9.1)\n",
            "Requirement already satisfied: async-timeout<5.0.0,>=4.0.0 in /usr/local/lib/python3.10/dist-packages (from langchain) (4.0.3)\n",
            "Collecting dataclasses-json<0.7,>=0.5.7 (from langchain)\n",
            "  Downloading dataclasses_json-0.6.3-py3-none-any.whl (28 kB)\n",
            "Collecting jsonpatch<2.0,>=1.33 (from langchain)\n",
            "  Downloading jsonpatch-1.33-py2.py3-none-any.whl (12 kB)\n",
            "Collecting langchain-community<0.1,>=0.0.13 (from langchain)\n",
            "  Downloading langchain_community-0.0.13-py3-none-any.whl (1.6 MB)\n",
            "\u001b[2K     \u001b[90m━━━━━━━━━━━━━━━━━━━━━━━━━━━━━━━━━━━━━━━━\u001b[0m \u001b[32m1.6/1.6 MB\u001b[0m \u001b[31m23.8 MB/s\u001b[0m eta \u001b[36m0:00:00\u001b[0m\n",
            "\u001b[?25hCollecting langchain-core<0.2,>=0.1.9 (from langchain)\n",
            "  Downloading langchain_core-0.1.12-py3-none-any.whl (218 kB)\n",
            "\u001b[2K     \u001b[90m━━━━━━━━━━━━━━━━━━━━━━━━━━━━━━━━━━━━━━━━\u001b[0m \u001b[32m218.9/218.9 kB\u001b[0m \u001b[31m8.0 MB/s\u001b[0m eta \u001b[36m0:00:00\u001b[0m\n",
            "\u001b[?25hCollecting langsmith<0.1.0,>=0.0.77 (from langchain)\n",
            "  Downloading langsmith-0.0.82-py3-none-any.whl (49 kB)\n",
            "\u001b[2K     \u001b[90m━━━━━━━━━━━━━━━━━━━━━━━━━━━━━━━━━━━━━━━━\u001b[0m \u001b[32m49.2/49.2 kB\u001b[0m \u001b[31m518.7 kB/s\u001b[0m eta \u001b[36m0:00:00\u001b[0m\n",
            "\u001b[?25hRequirement already satisfied: numpy<2,>=1 in /usr/local/lib/python3.10/dist-packages (from langchain) (1.23.5)\n",
            "Requirement already satisfied: pydantic<3,>=1 in /usr/local/lib/python3.10/dist-packages (from langchain) (1.10.13)\n",
            "Requirement already satisfied: requests<3,>=2 in /usr/local/lib/python3.10/dist-packages (from langchain) (2.31.0)\n",
            "Requirement already satisfied: tenacity<9.0.0,>=8.1.0 in /usr/local/lib/python3.10/dist-packages (from langchain) (8.2.3)\n",
            "Requirement already satisfied: anyio<5,>=3.5.0 in /usr/local/lib/python3.10/dist-packages (from openai) (3.7.1)\n",
            "Requirement already satisfied: distro<2,>=1.7.0 in /usr/lib/python3/dist-packages (from openai) (1.7.0)\n",
            "Collecting httpx<1,>=0.23.0 (from openai)\n",
            "  Downloading httpx-0.26.0-py3-none-any.whl (75 kB)\n",
            "\u001b[2K     \u001b[90m━━━━━━━━━━━━━━━━━━━━━━━━━━━━━━━━━━━━━━━━\u001b[0m \u001b[32m75.9/75.9 kB\u001b[0m \u001b[31m6.8 MB/s\u001b[0m eta \u001b[36m0:00:00\u001b[0m\n",
            "\u001b[?25hRequirement already satisfied: sniffio in /usr/local/lib/python3.10/dist-packages (from openai) (1.3.0)\n",
            "Requirement already satisfied: tqdm>4 in /usr/local/lib/python3.10/dist-packages (from openai) (4.66.1)\n",
            "Collecting typing-extensions<5,>=4.7 (from openai)\n",
            "  Downloading typing_extensions-4.9.0-py3-none-any.whl (32 kB)\n",
            "Requirement already satisfied: attrs>=17.3.0 in /usr/local/lib/python3.10/dist-packages (from aiohttp<4.0.0,>=3.8.3->langchain) (23.2.0)\n",
            "Requirement already satisfied: multidict<7.0,>=4.5 in /usr/local/lib/python3.10/dist-packages (from aiohttp<4.0.0,>=3.8.3->langchain) (6.0.4)\n",
            "Requirement already satisfied: yarl<2.0,>=1.0 in /usr/local/lib/python3.10/dist-packages (from aiohttp<4.0.0,>=3.8.3->langchain) (1.9.4)\n",
            "Requirement already satisfied: frozenlist>=1.1.1 in /usr/local/lib/python3.10/dist-packages (from aiohttp<4.0.0,>=3.8.3->langchain) (1.4.1)\n",
            "Requirement already satisfied: aiosignal>=1.1.2 in /usr/local/lib/python3.10/dist-packages (from aiohttp<4.0.0,>=3.8.3->langchain) (1.3.1)\n",
            "Requirement already satisfied: idna>=2.8 in /usr/local/lib/python3.10/dist-packages (from anyio<5,>=3.5.0->openai) (3.6)\n",
            "Requirement already satisfied: exceptiongroup in /usr/local/lib/python3.10/dist-packages (from anyio<5,>=3.5.0->openai) (1.2.0)\n",
            "Collecting marshmallow<4.0.0,>=3.18.0 (from dataclasses-json<0.7,>=0.5.7->langchain)\n",
            "  Downloading marshmallow-3.20.2-py3-none-any.whl (49 kB)\n",
            "\u001b[2K     \u001b[90m━━━━━━━━━━━━━━━━━━━━━━━━━━━━━━━━━━━━━━━━\u001b[0m \u001b[32m49.4/49.4 kB\u001b[0m \u001b[31m3.5 MB/s\u001b[0m eta \u001b[36m0:00:00\u001b[0m\n",
            "\u001b[?25hCollecting typing-inspect<1,>=0.4.0 (from dataclasses-json<0.7,>=0.5.7->langchain)\n",
            "  Downloading typing_inspect-0.9.0-py3-none-any.whl (8.8 kB)\n",
            "Requirement already satisfied: certifi in /usr/local/lib/python3.10/dist-packages (from httpx<1,>=0.23.0->openai) (2023.11.17)\n",
            "Collecting httpcore==1.* (from httpx<1,>=0.23.0->openai)\n",
            "  Downloading httpcore-1.0.2-py3-none-any.whl (76 kB)\n",
            "\u001b[2K     \u001b[90m━━━━━━━━━━━━━━━━━━━━━━━━━━━━━━━━━━━━━━━━\u001b[0m \u001b[32m76.9/76.9 kB\u001b[0m \u001b[31m7.3 MB/s\u001b[0m eta \u001b[36m0:00:00\u001b[0m\n",
            "\u001b[?25hCollecting h11<0.15,>=0.13 (from httpcore==1.*->httpx<1,>=0.23.0->openai)\n",
            "  Downloading h11-0.14.0-py3-none-any.whl (58 kB)\n",
            "\u001b[2K     \u001b[90m━━━━━━━━━━━━━━━━━━━━━━━━━━━━━━━━━━━━━━━━\u001b[0m \u001b[32m58.3/58.3 kB\u001b[0m \u001b[31m6.8 MB/s\u001b[0m eta \u001b[36m0:00:00\u001b[0m\n",
            "\u001b[?25hCollecting jsonpointer>=1.9 (from jsonpatch<2.0,>=1.33->langchain)\n",
            "  Downloading jsonpointer-2.4-py2.py3-none-any.whl (7.8 kB)\n",
            "Requirement already satisfied: packaging<24.0,>=23.2 in /usr/local/lib/python3.10/dist-packages (from langchain-core<0.2,>=0.1.9->langchain) (23.2)\n",
            "Requirement already satisfied: charset-normalizer<4,>=2 in /usr/local/lib/python3.10/dist-packages (from requests<3,>=2->langchain) (3.3.2)\n",
            "Requirement already satisfied: urllib3<3,>=1.21.1 in /usr/local/lib/python3.10/dist-packages (from requests<3,>=2->langchain) (2.0.7)\n",
            "Requirement already satisfied: greenlet!=0.4.17 in /usr/local/lib/python3.10/dist-packages (from SQLAlchemy<3,>=1.4->langchain) (3.0.3)\n",
            "Collecting mypy-extensions>=0.3.0 (from typing-inspect<1,>=0.4.0->dataclasses-json<0.7,>=0.5.7->langchain)\n",
            "  Downloading mypy_extensions-1.0.0-py3-none-any.whl (4.7 kB)\n",
            "Installing collected packages: typing-extensions, mypy-extensions, marshmallow, jsonpointer, h11, typing-inspect, jsonpatch, httpcore, langsmith, httpx, dataclasses-json, openai, langchain-core, langchain-community, langchain\n",
            "  Attempting uninstall: typing-extensions\n",
            "    Found existing installation: typing_extensions 4.5.0\n",
            "    Uninstalling typing_extensions-4.5.0:\n",
            "      Successfully uninstalled typing_extensions-4.5.0\n",
            "\u001b[31mERROR: pip's dependency resolver does not currently take into account all the packages that are installed. This behaviour is the source of the following dependency conflicts.\n",
            "llmx 0.0.15a0 requires cohere, which is not installed.\n",
            "llmx 0.0.15a0 requires tiktoken, which is not installed.\n",
            "tensorflow-probability 0.22.0 requires typing-extensions<4.6.0, but you have typing-extensions 4.9.0 which is incompatible.\u001b[0m\u001b[31m\n",
            "\u001b[0mSuccessfully installed dataclasses-json-0.6.3 h11-0.14.0 httpcore-1.0.2 httpx-0.26.0 jsonpatch-1.33 jsonpointer-2.4 langchain-0.1.1 langchain-community-0.0.13 langchain-core-0.1.12 langsmith-0.0.82 marshmallow-3.20.2 mypy-extensions-1.0.0 openai-1.8.0 typing-extensions-4.9.0 typing-inspect-0.9.0\n"
          ]
        }
      ],
      "source": [
        "!pip install langchain openai"
      ]
    },
    {
      "cell_type": "markdown",
      "id": "8e13ed66-300b-4a23-b8ac-44df68ee4733",
      "metadata": {
        "id": "8e13ed66-300b-4a23-b8ac-44df68ee4733"
      },
      "source": [
        "## LLM"
      ]
    },
    {
      "cell_type": "code",
      "source": [
        "from getpass import getpass\n",
        "\n",
        "OPENAI_API_KEY = getpass()\n",
        "\n",
        "import os\n",
        "\n",
        "os.environ[\"OPENAI_API_KEY\"] = OPENAI_API_KEY"
      ],
      "metadata": {
        "colab": {
          "base_uri": "https://localhost:8080/"
        },
        "id": "s1Fx9PLISahK",
        "outputId": "f1b16ca1-1424-4931-d23d-0b1267a84741"
      },
      "id": "s1Fx9PLISahK",
      "execution_count": 2,
      "outputs": [
        {
          "name": "stdout",
          "output_type": "stream",
          "text": [
            "··········\n"
          ]
        }
      ]
    },
    {
      "cell_type": "code",
      "source": [
        "from openai import OpenAI\n",
        "client = OpenAI()\n",
        "\n",
        "response = client.chat.completions.create(\n",
        "  model=\"gpt-3.5-turbo\",\n",
        "  messages=[\n",
        "    {\n",
        "      \"role\": \"system\",\n",
        "      \"content\": \"Given the following SQL tables, your job is to write queries given a user’s request.\\n  Table orders {\\n  id int [primary key] \\n  user_id int [not null, unique] \\n  status varchar \\n  created_at varchar \\n } \\n Table order_items  { \\n  order_id int \\n  product_id int \\n  quantity int \\n }\\n Table products  { \\n  id int [primary key] \\n  name varchar \\n  merchant_id int [not null] \\n  price int \\n  status varchar \\n  created_at varchar \\n  category_id int \\n} \\n Table users { \\n  id int [primary key] \\n  full_name varchar \\n  email varchar [unique] \\n  gender varchar \\n  date_of_birth varchar \\n  created_at varchar \\n  country_code int \\n }\"\n",
        "    },\n",
        "    {\n",
        "      \"role\": \"user\",\n",
        "      \"content\": \"Write a SQL query which gives Top 5 Customers based on Sales in current year\"\n",
        "    }\n",
        "  ],\n",
        "  temperature=0.0,\n",
        "  top_p=1\n",
        ")\n",
        "print(response)"
      ],
      "metadata": {
        "colab": {
          "base_uri": "https://localhost:8080/"
        },
        "id": "WDB4Whb5Xi0l",
        "outputId": "2dc0f6ab-65a8-4be4-958e-02e018afebcf"
      },
      "id": "WDB4Whb5Xi0l",
      "execution_count": 3,
      "outputs": [
        {
          "output_type": "stream",
          "name": "stdout",
          "text": [
            "ChatCompletion(id='chatcmpl-8iNWng1wiGwDBCspLHPh4p5AgmJzx', choices=[Choice(finish_reason='stop', index=0, logprobs=None, message=ChatCompletionMessage(content=\"To get the top 5 customers based on sales in the current year, you can use the following SQL query:\\n\\n```sql\\nSELECT u.full_name AS customer_name, SUM(p.price * oi.quantity) AS total_sales\\nFROM users u\\nJOIN orders o ON u.id = o.user_id\\nJOIN order_items oi ON o.id = oi.order_id\\nJOIN products p ON oi.product_id = p.id\\nWHERE YEAR(o.created_at) = YEAR(CURRENT_DATE())\\nGROUP BY u.id\\nORDER BY total_sales DESC\\nLIMIT 5;\\n```\\n\\nThis query joins the `users`, `orders`, `order_items`, and `products` tables to calculate the total sales for each customer in the current year. It then groups the results by the customer's ID and orders them in descending order based on total sales. Finally, it limits the results to the top 5 customers.\", role='assistant', function_call=None, tool_calls=None))], created=1705587565, model='gpt-3.5-turbo-0613', object='chat.completion', system_fingerprint=None, usage=CompletionUsage(completion_tokens=178, prompt_tokens=191, total_tokens=369))\n"
          ]
        }
      ]
    },
    {
      "cell_type": "code",
      "source": [
        "print(response.choices[0].message.content)"
      ],
      "metadata": {
        "colab": {
          "base_uri": "https://localhost:8080/"
        },
        "id": "wtAYTuBNZsud",
        "outputId": "2e5b128e-7812-4719-b81c-fca13bc8c2d2"
      },
      "id": "wtAYTuBNZsud",
      "execution_count": 4,
      "outputs": [
        {
          "output_type": "stream",
          "name": "stdout",
          "text": [
            "To get the top 5 customers based on sales in the current year, you can use the following SQL query:\n",
            "\n",
            "```sql\n",
            "SELECT u.full_name AS customer_name, SUM(p.price * oi.quantity) AS total_sales\n",
            "FROM users u\n",
            "JOIN orders o ON u.id = o.user_id\n",
            "JOIN order_items oi ON o.id = oi.order_id\n",
            "JOIN products p ON oi.product_id = p.id\n",
            "WHERE YEAR(o.created_at) = YEAR(CURRENT_DATE())\n",
            "GROUP BY u.id\n",
            "ORDER BY total_sales DESC\n",
            "LIMIT 5;\n",
            "```\n",
            "\n",
            "This query joins the `users`, `orders`, `order_items`, and `products` tables to calculate the total sales for each customer in the current year. It then groups the results by the customer's ID and orders them in descending order based on total sales. Finally, it limits the results to the top 5 customers.\n"
          ]
        }
      ]
    },
    {
      "cell_type": "code",
      "source": [
        "response = client.chat.completions.create(\n",
        "  model=\"gpt-3.5-turbo\",\n",
        "  messages=[\n",
        "    {\n",
        "      \"role\": \"system\",\n",
        "      \"content\": \"Given the following SQL tables, your job is to write queries given a user’s request.\\n  Table orders {\\n  id int [primary key] \\n  user_id int [not null, unique] \\n  status varchar \\n  created_at varchar \\n } \\n Table order_items  { \\n  order_id int \\n  product_id int \\n  quantity int \\n }\\n Table products  { \\n  id int [primary key] \\n  name varchar \\n  merchant_id int [not null] \\n  price int \\n  status varchar \\n  created_at varchar \\n  category_id int \\n} \\n Table users { \\n  id int [primary key] \\n  full_name varchar \\n  email varchar [unique] \\n  gender varchar \\n  date_of_birth varchar \\n  created_at varchar \\n  country_code int \\n }\"\n",
        "    },\n",
        "    {\n",
        "      \"role\": \"user\",\n",
        "      \"content\": \"Write a SQL query which gives List customers where current month sales figures < 50% as of last  month\"\n",
        "    }\n",
        "  ],\n",
        "  temperature=0.0,\n",
        "  top_p=1\n",
        ")\n",
        "print(response.choices[0].message.content)"
      ],
      "metadata": {
        "colab": {
          "base_uri": "https://localhost:8080/"
        },
        "id": "NzXAxMotyGLs",
        "outputId": "a1425b49-a6e8-4080-d632-40e533233ab1"
      },
      "id": "NzXAxMotyGLs",
      "execution_count": 5,
      "outputs": [
        {
          "output_type": "stream",
          "name": "stdout",
          "text": [
            "To write a SQL query that gives a list of customers where the current month sales figures are less than 50% of the sales figures from the previous month, you can use the following query:\n",
            "\n",
            "```sql\n",
            "SELECT u.full_name, u.email\n",
            "FROM users u\n",
            "JOIN orders o ON u.id = o.user_id\n",
            "JOIN order_items oi ON o.id = oi.order_id\n",
            "JOIN products p ON oi.product_id = p.id\n",
            "WHERE o.created_at >= DATE_TRUNC('month', CURRENT_DATE) -- current month\n",
            "  AND o.created_at < DATE_TRUNC('month', CURRENT_DATE) + INTERVAL '1 month' -- previous month\n",
            "  AND o.status = 'completed'\n",
            "GROUP BY u.full_name, u.email\n",
            "HAVING SUM(p.price * oi.quantity) < 0.5 * (\n",
            "  SELECT SUM(p.price * oi.quantity)\n",
            "  FROM users u\n",
            "  JOIN orders o ON u.id = o.user_id\n",
            "  JOIN order_items oi ON o.id = oi.order_id\n",
            "  JOIN products p ON oi.product_id = p.id\n",
            "  WHERE o.created_at >= DATE_TRUNC('month', CURRENT_DATE) - INTERVAL '1 month' -- previous month\n",
            "    AND o.created_at < DATE_TRUNC('month', CURRENT_DATE) -- current month\n",
            "    AND o.status = 'completed'\n",
            ")\n",
            "```\n",
            "\n",
            "This query joins the `users`, `orders`, `order_items`, and `products` tables to calculate the sales figures for the current month and the previous month. It then filters the results to only include customers whose current month sales figures are less than 50% of the previous month sales figures. The result includes the full name and email of the customers.\n"
          ]
        }
      ]
    },
    {
      "cell_type": "code",
      "source": [
        "response = client.chat.completions.create(\n",
        "  model=\"gpt-3.5-turbo\",\n",
        "  messages=[\n",
        "    {\n",
        "      \"role\": \"system\",\n",
        "      \"content\": \"Given the following SQL tables, your job is to write queries given a user’s request.\\n  Table orders {\\n  id int [primary key] \\n  user_id int [not null, unique] \\n  status varchar \\n  created_at varchar \\n } \\n Table order_items  { \\n  order_id int \\n  product_id int \\n  quantity int \\n }\\n Table products  { \\n  id int [primary key] \\n  name varchar \\n  merchant_id int [not null] \\n  price int \\n  status varchar \\n  created_at varchar \\n  category_id int \\n} \\n Table users { \\n  id int [primary key] \\n  full_name varchar \\n  email varchar [unique] \\n  gender varchar \\n  date_of_birth varchar \\n  created_at varchar \\n  country_code int \\n }\"\n",
        "    },\n",
        "    {\n",
        "      \"role\": \"user\",\n",
        "      \"content\": \"Write a SQL query which gives List products where current week sales > 1.2 times of last week \"\n",
        "    }\n",
        "  ],\n",
        "  temperature=0.0,\n",
        "  top_p=1\n",
        ")\n",
        "print(response.choices[0].message.content)"
      ],
      "metadata": {
        "colab": {
          "base_uri": "https://localhost:8080/"
        },
        "id": "VRJqn3uZPaVx",
        "outputId": "7048529f-54ab-4869-8740-17a6b420e18e"
      },
      "id": "VRJqn3uZPaVx",
      "execution_count": 6,
      "outputs": [
        {
          "output_type": "stream",
          "name": "stdout",
          "text": [
            "To write a SQL query that gives a list of products where the current week sales are greater than 1.2 times the sales of the previous week, you will need to join the tables and calculate the sales for each week. Here's an example query:\n",
            "\n",
            "```sql\n",
            "SELECT p.name, SUM(oi.quantity) AS current_week_sales, SUM(oi_prev.quantity) AS previous_week_sales\n",
            "FROM products p\n",
            "JOIN order_items oi ON p.id = oi.product_id\n",
            "JOIN orders o ON oi.order_id = o.id\n",
            "JOIN (\n",
            "    SELECT oi_prev.product_id, SUM(oi_prev.quantity) AS quantity\n",
            "    FROM order_items oi_prev\n",
            "    JOIN orders o_prev ON oi_prev.order_id = o_prev.id\n",
            "    WHERE o_prev.created_at >= DATE_SUB(CURDATE(), INTERVAL 2 WEEK) AND o_prev.created_at < DATE_SUB(CURDATE(), INTERVAL 1 WEEK)\n",
            "    GROUP BY oi_prev.product_id\n",
            ") oi_prev ON p.id = oi_prev.product_id\n",
            "WHERE o.created_at >= DATE_SUB(CURDATE(), INTERVAL 1 WEEK) AND o.created_at < CURDATE()\n",
            "GROUP BY p.id\n",
            "HAVING SUM(oi.quantity) > 1.2 * SUM(oi_prev.quantity)\n",
            "```\n",
            "\n",
            "This query uses subqueries to calculate the sales for the current week and the previous week. It then joins the products table with the order_items and orders tables to get the necessary data. The WHERE clause filters the orders based on their creation dates to get the sales for the desired time periods. Finally, the HAVING clause filters the products based on the sales comparison.\n",
            "\n",
            "Note: This query assumes that the \"created_at\" column in the orders table is stored as a date or datetime data type. If it is stored as a varchar, you may need to modify the date comparison logic accordingly.\n"
          ]
        }
      ]
    },
    {
      "cell_type": "code",
      "source": [
        "response = client.chat.completions.create(\n",
        "  model=\"gpt-3.5-turbo\",\n",
        "  messages=[\n",
        "    {\n",
        "      \"role\": \"system\",\n",
        "      \"content\": \"Given the following SQL tables, your job is to write queries given a user’s request.\\n  Table orders {\\n  id int [primary key] \\n  user_id int [not null, unique] \\n  status varchar \\n  created_at varchar \\n } \\n Table order_items  { \\n  order_id int \\n  product_id int \\n  quantity int \\n }\\n Table products  { \\n  id int [primary key] \\n  name varchar \\n  merchant_id int [not null] \\n  price int \\n  status varchar \\n  created_at varchar \\n  category_id int \\n} \\n Table users { \\n  id int [primary key] \\n  full_name varchar \\n  email varchar [unique] \\n  gender varchar \\n  date_of_birth varchar \\n  created_at varchar \\n  country_code int \\n }\"\n",
        "    },\n",
        "    {\n",
        "      \"role\": \"user\",\n",
        "      \"content\": \"Write a SQL query which gives List of customers where current month sales figures < 50% as of in the month which is before 3 months the current month\"\n",
        "    }\n",
        "  ],\n",
        "  temperature=0.0,\n",
        "  top_p=1\n",
        ")\n",
        "print(response.choices[0].message.content)"
      ],
      "metadata": {
        "colab": {
          "base_uri": "https://localhost:8080/"
        },
        "id": "FVmjPtktpm34",
        "outputId": "2931f05a-be55-4ead-a5ff-0bf7c03ad70f"
      },
      "id": "FVmjPtktpm34",
      "execution_count": 7,
      "outputs": [
        {
          "output_type": "stream",
          "name": "stdout",
          "text": [
            "To get the list of customers where the current month sales figures are less than 50% compared to the sales figures of the month which is three months before the current month, you can use the following SQL query:\n",
            "\n",
            "```sql\n",
            "SELECT u.full_name, u.email\n",
            "FROM users u\n",
            "JOIN orders o ON u.id = o.user_id\n",
            "JOIN order_items oi ON o.id = oi.order_id\n",
            "JOIN products p ON oi.product_id = p.id\n",
            "WHERE o.status = 'completed'\n",
            "  AND DATE_FORMAT(o.created_at, '%Y-%m') = DATE_FORMAT(CURRENT_DATE, '%Y-%m')\n",
            "  AND p.price * oi.quantity < (\n",
            "    SELECT 0.5 * SUM(p.price * oi.quantity)\n",
            "    FROM orders o\n",
            "    JOIN order_items oi ON o.id = oi.order_id\n",
            "    JOIN products p ON oi.product_id = p.id\n",
            "    WHERE o.status = 'completed'\n",
            "      AND DATE_FORMAT(o.created_at, '%Y-%m') = DATE_FORMAT(DATE_SUB(CURRENT_DATE, INTERVAL 3 MONTH), '%Y-%m')\n",
            "  )\n",
            "GROUP BY u.id, u.full_name, u.email;\n",
            "```\n",
            "\n",
            "This query joins the `users`, `orders`, `order_items`, and `products` tables. It filters the orders based on the status being 'completed' and the created date being the current month. It then calculates the sales figures for the month which is three months before the current month and compares it to the current month sales figures. If the current month sales figures are less than 50% of the previous month sales figures, the customer's full name and email are returned in the result set.\n"
          ]
        }
      ]
    },
    {
      "cell_type": "code",
      "source": [
        "response = client.chat.completions.create(\n",
        "  model=\"gpt-3.5-turbo\",\n",
        "  messages=[\n",
        "    {\n",
        "      \"role\": \"system\",\n",
        "      \"content\": \"Given the following SQL tables, your job is to write queries given a user’s request.\\n  Table orders {\\n  id int [primary key] \\n  user_id int [not null, unique] \\n  status varchar \\n  created_at varchar \\n } \\n Table order_items  { \\n  order_id int \\n  product_id int \\n  quantity int \\n }\\n Table products  { \\n  id int [primary key] \\n  name varchar \\n  merchant_id int [not null] \\n  price int \\n  status varchar \\n  created_at varchar \\n  category_id int \\n} \\n Table users { \\n  id int [primary key] \\n  full_name varchar \\n  email varchar [unique] \\n  gender varchar \\n  date_of_birth varchar \\n  created_at varchar \\n  country_code int \\n }\"\n",
        "    },\n",
        "    {\n",
        "      \"role\": \"user\",\n",
        "      \"content\": \"Write a SQL query which gives List of customers where current month sales figures < 50% as of in the same month of the last year\"\n",
        "    }\n",
        "  ],\n",
        "  temperature=0.0,\n",
        "  top_p=1\n",
        ")\n",
        "print(response.choices[0].message.content)"
      ],
      "metadata": {
        "id": "_D1bT0tfqZtm",
        "colab": {
          "base_uri": "https://localhost:8080/"
        },
        "outputId": "05aba7b9-7b0f-4e29-b399-badf754ed9a5"
      },
      "id": "_D1bT0tfqZtm",
      "execution_count": 8,
      "outputs": [
        {
          "output_type": "stream",
          "name": "stdout",
          "text": [
            "To get the list of customers where the current month sales figures are less than 50% compared to the same month of the last year, you can use the following SQL query:\n",
            "\n",
            "```sql\n",
            "SELECT u.full_name, u.email\n",
            "FROM users u\n",
            "JOIN orders o ON u.id = o.user_id\n",
            "JOIN order_items oi ON o.id = oi.order_id\n",
            "JOIN products p ON oi.product_id = p.id\n",
            "WHERE o.status = 'completed'\n",
            "  AND MONTH(o.created_at) = MONTH(CURRENT_DATE())\n",
            "  AND YEAR(o.created_at) = YEAR(CURRENT_DATE())\n",
            "  AND p.price * oi.quantity < (\n",
            "    SELECT SUM(p.price * oi.quantity)\n",
            "    FROM orders o\n",
            "    JOIN order_items oi ON o.id = oi.order_id\n",
            "    JOIN products p ON oi.product_id = p.id\n",
            "    WHERE o.status = 'completed'\n",
            "      AND MONTH(o.created_at) = MONTH(CURRENT_DATE() - INTERVAL 1 YEAR)\n",
            "      AND YEAR(o.created_at) = YEAR(CURRENT_DATE() - INTERVAL 1 YEAR)\n",
            "  ) * 0.5\n",
            "GROUP BY u.id, u.full_name, u.email\n",
            "```\n",
            "\n",
            "This query joins the `users`, `orders`, `order_items`, and `products` tables. It filters the orders based on the current month and year using the `MONTH()` and `YEAR()` functions. It also calculates the sales figures for the same month of the last year using a subquery and compares it to the current month sales figures. The result is a list of customers (`full_name` and `email`) where the current month sales figures are less than 50% compared to the same month of the last year.\n"
          ]
        }
      ]
    }
  ],
  "metadata": {
    "kernelspec": {
      "display_name": "Python 3",
      "name": "python3"
    },
    "language_info": {
      "codemirror_mode": {
        "name": "ipython",
        "version": 3
      },
      "file_extension": ".py",
      "mimetype": "text/x-python",
      "name": "python",
      "nbconvert_exporter": "python",
      "pygments_lexer": "ipython3",
      "version": "3.9.16"
    },
    "colab": {
      "provenance": []
    }
  },
  "nbformat": 4,
  "nbformat_minor": 5
}