{
  "cells": [
    {
      "cell_type": "code",
      "execution_count": 12,
      "id": "81adcf8b-395a-4f02-8749-ac976942b446",
      "metadata": {
        "colab": {
          "base_uri": "https://localhost:8080/"
        },
        "id": "81adcf8b-395a-4f02-8749-ac976942b446",
        "outputId": "3b3ff2f6-463e-45f9-e875-36a00039ef95"
      },
      "outputs": [
        {
          "output_type": "stream",
          "name": "stdout",
          "text": [
            "Requirement already satisfied: langchain in /usr/local/lib/python3.10/dist-packages (0.1.1)\n",
            "Requirement already satisfied: openai in /usr/local/lib/python3.10/dist-packages (1.8.0)\n",
            "Requirement already satisfied: PyYAML>=5.3 in /usr/local/lib/python3.10/dist-packages (from langchain) (6.0.1)\n",
            "Requirement already satisfied: SQLAlchemy<3,>=1.4 in /usr/local/lib/python3.10/dist-packages (from langchain) (2.0.24)\n",
            "Requirement already satisfied: aiohttp<4.0.0,>=3.8.3 in /usr/local/lib/python3.10/dist-packages (from langchain) (3.9.1)\n",
            "Requirement already satisfied: async-timeout<5.0.0,>=4.0.0 in /usr/local/lib/python3.10/dist-packages (from langchain) (4.0.3)\n",
            "Requirement already satisfied: dataclasses-json<0.7,>=0.5.7 in /usr/local/lib/python3.10/dist-packages (from langchain) (0.6.3)\n",
            "Requirement already satisfied: jsonpatch<2.0,>=1.33 in /usr/local/lib/python3.10/dist-packages (from langchain) (1.33)\n",
            "Requirement already satisfied: langchain-community<0.1,>=0.0.13 in /usr/local/lib/python3.10/dist-packages (from langchain) (0.0.13)\n",
            "Requirement already satisfied: langchain-core<0.2,>=0.1.9 in /usr/local/lib/python3.10/dist-packages (from langchain) (0.1.12)\n",
            "Requirement already satisfied: langsmith<0.1.0,>=0.0.77 in /usr/local/lib/python3.10/dist-packages (from langchain) (0.0.82)\n",
            "Requirement already satisfied: numpy<2,>=1 in /usr/local/lib/python3.10/dist-packages (from langchain) (1.23.5)\n",
            "Requirement already satisfied: pydantic<3,>=1 in /usr/local/lib/python3.10/dist-packages (from langchain) (1.10.13)\n",
            "Requirement already satisfied: requests<3,>=2 in /usr/local/lib/python3.10/dist-packages (from langchain) (2.31.0)\n",
            "Requirement already satisfied: tenacity<9.0.0,>=8.1.0 in /usr/local/lib/python3.10/dist-packages (from langchain) (8.2.3)\n",
            "Requirement already satisfied: anyio<5,>=3.5.0 in /usr/local/lib/python3.10/dist-packages (from openai) (3.7.1)\n",
            "Requirement already satisfied: distro<2,>=1.7.0 in /usr/lib/python3/dist-packages (from openai) (1.7.0)\n",
            "Requirement already satisfied: httpx<1,>=0.23.0 in /usr/local/lib/python3.10/dist-packages (from openai) (0.26.0)\n",
            "Requirement already satisfied: sniffio in /usr/local/lib/python3.10/dist-packages (from openai) (1.3.0)\n",
            "Requirement already satisfied: tqdm>4 in /usr/local/lib/python3.10/dist-packages (from openai) (4.66.1)\n",
            "Requirement already satisfied: typing-extensions<5,>=4.7 in /usr/local/lib/python3.10/dist-packages (from openai) (4.9.0)\n",
            "Requirement already satisfied: attrs>=17.3.0 in /usr/local/lib/python3.10/dist-packages (from aiohttp<4.0.0,>=3.8.3->langchain) (23.2.0)\n",
            "Requirement already satisfied: multidict<7.0,>=4.5 in /usr/local/lib/python3.10/dist-packages (from aiohttp<4.0.0,>=3.8.3->langchain) (6.0.4)\n",
            "Requirement already satisfied: yarl<2.0,>=1.0 in /usr/local/lib/python3.10/dist-packages (from aiohttp<4.0.0,>=3.8.3->langchain) (1.9.4)\n",
            "Requirement already satisfied: frozenlist>=1.1.1 in /usr/local/lib/python3.10/dist-packages (from aiohttp<4.0.0,>=3.8.3->langchain) (1.4.1)\n",
            "Requirement already satisfied: aiosignal>=1.1.2 in /usr/local/lib/python3.10/dist-packages (from aiohttp<4.0.0,>=3.8.3->langchain) (1.3.1)\n",
            "Requirement already satisfied: idna>=2.8 in /usr/local/lib/python3.10/dist-packages (from anyio<5,>=3.5.0->openai) (3.6)\n",
            "Requirement already satisfied: exceptiongroup in /usr/local/lib/python3.10/dist-packages (from anyio<5,>=3.5.0->openai) (1.2.0)\n",
            "Requirement already satisfied: marshmallow<4.0.0,>=3.18.0 in /usr/local/lib/python3.10/dist-packages (from dataclasses-json<0.7,>=0.5.7->langchain) (3.20.2)\n",
            "Requirement already satisfied: typing-inspect<1,>=0.4.0 in /usr/local/lib/python3.10/dist-packages (from dataclasses-json<0.7,>=0.5.7->langchain) (0.9.0)\n",
            "Requirement already satisfied: certifi in /usr/local/lib/python3.10/dist-packages (from httpx<1,>=0.23.0->openai) (2023.11.17)\n",
            "Requirement already satisfied: httpcore==1.* in /usr/local/lib/python3.10/dist-packages (from httpx<1,>=0.23.0->openai) (1.0.2)\n",
            "Requirement already satisfied: h11<0.15,>=0.13 in /usr/local/lib/python3.10/dist-packages (from httpcore==1.*->httpx<1,>=0.23.0->openai) (0.14.0)\n",
            "Requirement already satisfied: jsonpointer>=1.9 in /usr/local/lib/python3.10/dist-packages (from jsonpatch<2.0,>=1.33->langchain) (2.4)\n",
            "Requirement already satisfied: packaging<24.0,>=23.2 in /usr/local/lib/python3.10/dist-packages (from langchain-core<0.2,>=0.1.9->langchain) (23.2)\n",
            "Requirement already satisfied: charset-normalizer<4,>=2 in /usr/local/lib/python3.10/dist-packages (from requests<3,>=2->langchain) (3.3.2)\n",
            "Requirement already satisfied: urllib3<3,>=1.21.1 in /usr/local/lib/python3.10/dist-packages (from requests<3,>=2->langchain) (2.0.7)\n",
            "Requirement already satisfied: greenlet!=0.4.17 in /usr/local/lib/python3.10/dist-packages (from SQLAlchemy<3,>=1.4->langchain) (3.0.3)\n",
            "Requirement already satisfied: mypy-extensions>=0.3.0 in /usr/local/lib/python3.10/dist-packages (from typing-inspect<1,>=0.4.0->dataclasses-json<0.7,>=0.5.7->langchain) (1.0.0)\n"
          ]
        }
      ],
      "source": [
        "!pip install langchain openai"
      ]
    },
    {
      "cell_type": "markdown",
      "id": "8e13ed66-300b-4a23-b8ac-44df68ee4733",
      "metadata": {
        "id": "8e13ed66-300b-4a23-b8ac-44df68ee4733"
      },
      "source": [
        "## LLM"
      ]
    },
    {
      "cell_type": "code",
      "source": [
        "from getpass import getpass\n",
        "\n",
        "OPENAI_API_KEY = getpass()\n",
        "\n",
        "import os\n",
        "\n",
        "os.environ[\"OPENAI_API_KEY\"] = OPENAI_API_KEY"
      ],
      "metadata": {
        "colab": {
          "base_uri": "https://localhost:8080/"
        },
        "id": "s1Fx9PLISahK",
        "outputId": "5169c449-9f80-438c-c913-6936fa58f40d"
      },
      "id": "s1Fx9PLISahK",
      "execution_count": 13,
      "outputs": [
        {
          "name": "stdout",
          "output_type": "stream",
          "text": [
            "··········\n"
          ]
        }
      ]
    },
    {
      "cell_type": "code",
      "source": [
        "from openai import OpenAI\n",
        "client = OpenAI()\n",
        "\n",
        "response = client.chat.completions.create(\n",
        "  model=\"gpt-3.5-turbo\",\n",
        "  messages=[\n",
        "    {\n",
        "      \"role\": \"system\",\n",
        "      \"content\": \"Given the following SQL tables, your job is to write queries given a user’s request.\\n  Table orders {\\n  id int [primary key] \\n  user_id int [not null, unique] \\n  status varchar \\n  created_at varchar \\n } \\n Table order_items  { \\n  order_id int \\n  product_id int \\n  quantity int \\n }\\n Table products  { \\n  id int [primary key] \\n  name varchar \\n  merchant_id int [not null] \\n  price int \\n  status varchar \\n  created_at varchar \\n  category_id int \\n} \\n Table users { \\n  id int [primary key] \\n  full_name varchar \\n  email varchar [unique] \\n  gender varchar \\n  date_of_birth varchar \\n  created_at varchar \\n  country_code int \\n }\"\n",
        "    },\n",
        "    {\n",
        "      \"role\": \"user\",\n",
        "      \"content\": \"Write a SQL query which gives List of products where current month sales is greater than as of in the same month of each last 3 years\"\n",
        "    }\n",
        "  ],\n",
        "  temperature=0.7,\n",
        "  top_p=1\n",
        ")\n",
        "print(response.choices[0].message.content)"
      ],
      "metadata": {
        "colab": {
          "base_uri": "https://localhost:8080/"
        },
        "id": "WDB4Whb5Xi0l",
        "outputId": "40ebd1da-f6c9-41c7-adb3-607e582a5117"
      },
      "id": "WDB4Whb5Xi0l",
      "execution_count": 19,
      "outputs": [
        {
          "output_type": "stream",
          "name": "stdout",
          "text": [
            "To get the list of products where the current month sales is greater than the sales of the same month in each of the last 3 years, you can use the following SQL query:\n",
            "\n",
            "```sql\n",
            "SELECT p.id, p.name, SUM(oi.quantity) AS current_month_sales\n",
            "FROM products p\n",
            "JOIN order_items oi ON p.id = oi.product_id\n",
            "JOIN orders o ON oi.order_id = o.id\n",
            "WHERE o.status = 'completed'\n",
            "  AND YEAR(o.created_at) >= YEAR(CURRENT_DATE()) - 3\n",
            "  AND MONTH(o.created_at) = MONTH(CURRENT_DATE())\n",
            "GROUP BY p.id, p.name\n",
            "HAVING current_month_sales > (\n",
            "  SELECT SUM(oi.quantity)\n",
            "  FROM products p2\n",
            "  JOIN order_items oi ON p2.id = oi.product_id\n",
            "  JOIN orders o ON oi.order_id = o.id\n",
            "  WHERE o.status = 'completed'\n",
            "    AND YEAR(o.created_at) = YEAR(CURRENT_DATE()) - 1\n",
            "    AND MONTH(o.created_at) = MONTH(CURRENT_DATE())\n",
            ")\n",
            "AND current_month_sales > (\n",
            "  SELECT SUM(oi.quantity)\n",
            "  FROM products p3\n",
            "  JOIN order_items oi ON p3.id = oi.product_id\n",
            "  JOIN orders o ON oi.order_id = o.id\n",
            "  WHERE o.status = 'completed'\n",
            "    AND YEAR(o.created_at) = YEAR(CURRENT_DATE()) - 2\n",
            "    AND MONTH(o.created_at) = MONTH(CURRENT_DATE())\n",
            ")\n",
            "AND current_month_sales > (\n",
            "  SELECT SUM(oi.quantity)\n",
            "  FROM products p4\n",
            "  JOIN order_items oi ON p4.id = oi.product_id\n",
            "  JOIN orders o ON oi.order_id = o.id\n",
            "  WHERE o.status = 'completed'\n",
            "    AND YEAR(o.created_at) = YEAR(CURRENT_DATE()) - 3\n",
            "    AND MONTH(o.created_at) = MONTH(CURRENT_DATE())\n",
            ")\n",
            "ORDER BY current_month_sales DESC;\n",
            "```\n",
            "\n",
            "This query joins the `products`, `order_items`, and `orders` tables to calculate the current month sales for each product. It then compares the current month sales with the sales of the same month in each of the last 3 years using subqueries. The result is a list of products sorted by the current month sales in descending order.\n"
          ]
        }
      ]
    },
    {
      "cell_type": "code",
      "source": [
        "response = client.chat.completions.create(\n",
        "  model=\"gpt-3.5-turbo\",\n",
        "  messages=[\n",
        "    {\n",
        "      \"role\": \"system\",\n",
        "      \"content\": \"Given the following SQL tables, your job is to write queries given a user’s request.\\n  Table orders {\\n  id int [primary key] \\n  user_id int [not null, unique] \\n  status varchar \\n  created_at varchar \\n } \\n Table order_items  { \\n  order_id int \\n  product_id int \\n  quantity int \\n }\\n Table products  { \\n  id int [primary key] \\n  name varchar \\n  merchant_id int [not null] \\n  price int \\n  status varchar \\n  created_at varchar \\n  category_id int \\n} \\n Table users { \\n  id int [primary key] \\n  full_name varchar \\n  email varchar [unique] \\n  gender varchar \\n  date_of_birth varchar \\n  created_at varchar \\n  country_code int \\n }\"\n",
        "    },\n",
        "    {\n",
        "      \"role\": \"user\",\n",
        "      \"content\": \"Write a SQL query which gives List of customers where current month sales figures < 50% as of in the month which is before 3 months the current month\"\n",
        "    }\n",
        "  ],\n",
        "  temperature=0.0,\n",
        "  top_p=1\n",
        ")\n",
        "print(response.choices[0].message.content)"
      ],
      "metadata": {
        "colab": {
          "base_uri": "https://localhost:8080/"
        },
        "id": "FVmjPtktpm34",
        "outputId": "e4bb97b9-5ce1-429e-d9fe-d093bd01eb94"
      },
      "id": "FVmjPtktpm34",
      "execution_count": 15,
      "outputs": [
        {
          "output_type": "stream",
          "name": "stdout",
          "text": [
            "To get the list of customers where the current month sales figures are less than 50% compared to the sales figures of the month which is three months before the current month, you can use the following SQL query:\n",
            "\n",
            "```sql\n",
            "SELECT u.full_name, u.email\n",
            "FROM users u\n",
            "JOIN orders o ON u.id = o.user_id\n",
            "JOIN order_items oi ON o.id = oi.order_id\n",
            "JOIN products p ON oi.product_id = p.id\n",
            "WHERE o.status = 'completed'\n",
            "  AND DATE_FORMAT(o.created_at, '%Y-%m') = DATE_FORMAT(CURRENT_DATE, '%Y-%m')\n",
            "  AND p.price * oi.quantity < (\n",
            "    SELECT 0.5 * SUM(p.price * oi.quantity)\n",
            "    FROM orders o\n",
            "    JOIN order_items oi ON o.id = oi.order_id\n",
            "    JOIN products p ON oi.product_id = p.id\n",
            "    WHERE o.status = 'completed'\n",
            "      AND DATE_FORMAT(o.created_at, '%Y-%m') = DATE_FORMAT(DATE_SUB(CURRENT_DATE, INTERVAL 3 MONTH), '%Y-%m')\n",
            "  )\n",
            "GROUP BY u.id, u.full_name, u.email;\n",
            "```\n",
            "\n",
            "This query joins the `users`, `orders`, `order_items`, and `products` tables. It filters the orders based on the status being 'completed' and the created date being the current month. It then calculates the sales figures for the month which is three months before the current month and compares it to the current month sales figures. If the current month sales figures are less than 50% of the previous month sales figures, the customer's full name and email are returned in the result set.\n"
          ]
        }
      ]
    },
    {
      "cell_type": "code",
      "source": [
        "response = client.chat.completions.create(\n",
        "  model=\"gpt-3.5-turbo\",\n",
        "  messages=[\n",
        "    {\n",
        "      \"role\": \"system\",\n",
        "      \"content\": \"Given the following SQL tables, your job is to write queries given a user’s request.\\n  Table orders {\\n  id int [primary key] \\n  user_id int [not null, unique] \\n  status varchar \\n  created_at varchar \\n } \\n Table order_items  { \\n  order_id int \\n  product_id int \\n  quantity int \\n }\\n Table products  { \\n  id int [primary key] \\n  name varchar \\n  merchant_id int [not null] \\n  price int \\n  status varchar \\n  created_at varchar \\n  category_id int \\n} \\n Table users { \\n  id int [primary key] \\n  full_name varchar \\n  email varchar [unique] \\n  gender varchar \\n  date_of_birth varchar \\n  created_at varchar \\n  country_code int \\n }\"\n",
        "    },\n",
        "    {\n",
        "      \"role\": \"user\",\n",
        "      \"content\": \"Write a SQL query which gives List of customers where current month sales figures < 50% as of in the same month of the last year\"\n",
        "    }\n",
        "  ],\n",
        "  temperature=0.0,\n",
        "  top_p=1\n",
        ")\n",
        "print(response.choices[0].message.content)"
      ],
      "metadata": {
        "id": "_D1bT0tfqZtm",
        "colab": {
          "base_uri": "https://localhost:8080/"
        },
        "outputId": "ff201377-8ae2-4d63-f122-9d85c89238cc"
      },
      "id": "_D1bT0tfqZtm",
      "execution_count": 16,
      "outputs": [
        {
          "output_type": "stream",
          "name": "stdout",
          "text": [
            "To get the list of customers where the current month sales figures are less than 50% compared to the same month of the last year, you can use the following SQL query:\n",
            "\n",
            "```sql\n",
            "SELECT u.full_name, u.email\n",
            "FROM users u\n",
            "JOIN orders o ON u.id = o.user_id\n",
            "JOIN order_items oi ON o.id = oi.order_id\n",
            "JOIN products p ON oi.product_id = p.id\n",
            "WHERE o.status = 'completed'\n",
            "  AND MONTH(o.created_at) = MONTH(CURRENT_DATE())\n",
            "  AND YEAR(o.created_at) = YEAR(CURRENT_DATE())\n",
            "  AND p.price * oi.quantity < (\n",
            "    SELECT SUM(p.price * oi.quantity)\n",
            "    FROM orders o\n",
            "    JOIN order_items oi ON o.id = oi.order_id\n",
            "    JOIN products p ON oi.product_id = p.id\n",
            "    WHERE o.status = 'completed'\n",
            "      AND MONTH(o.created_at) = MONTH(CURRENT_DATE() - INTERVAL 1 YEAR)\n",
            "      AND YEAR(o.created_at) = YEAR(CURRENT_DATE() - INTERVAL 1 YEAR)\n",
            "  ) * 0.5\n",
            "GROUP BY u.id, u.full_name, u.email\n",
            "```\n",
            "\n",
            "This query joins the `users`, `orders`, `order_items`, and `products` tables. It filters the orders based on the current month and year using the `MONTH()` and `YEAR()` functions. It also calculates the sales figures for the same month of the last year using a subquery and compares it to the current month sales figures. The result is a list of customers (`full_name` and `email`) where the current month sales figures are less than 50% compared to the same month of the last year.\n"
          ]
        }
      ]
    }
  ],
  "metadata": {
    "kernelspec": {
      "display_name": "Python 3",
      "name": "python3"
    },
    "language_info": {
      "codemirror_mode": {
        "name": "ipython",
        "version": 3
      },
      "file_extension": ".py",
      "mimetype": "text/x-python",
      "name": "python",
      "nbconvert_exporter": "python",
      "pygments_lexer": "ipython3",
      "version": "3.9.16"
    },
    "colab": {
      "provenance": []
    }
  },
  "nbformat": 4,
  "nbformat_minor": 5
}