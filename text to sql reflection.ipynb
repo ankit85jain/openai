{
  "cells": [
    {
      "cell_type": "markdown",
      "id": "492f050f-3dc3-44fa-8fdc-03362afd5488",
      "metadata": {
        "id": "492f050f-3dc3-44fa-8fdc-03362afd5488"
      },
      "source": [
        "# Reflection\n",
        "https://blog.langchain.dev/reflection-agents/\n",
        "\n",
        "In the context of LLM agent building, reflection refers to the process of prompting an LLM to observe its past steps (along with potential observations from tools/the environment) to assess the quality of the chosen actions.\n",
        "This is then used downstream for things like re-planning, search, or evaluation.\n",
        "\n",
        "![Reflection](./img/reflection.png)\n",
        "\n",
        "This notebook demonstrates a very simple form of reflection in LangGraph."
      ]
    },
    {
      "cell_type": "markdown",
      "id": "3ef94e7e-c9a5-4eee-a865-acf411b5c235",
      "metadata": {
        "id": "3ef94e7e-c9a5-4eee-a865-acf411b5c235"
      },
      "source": [
        "#### Prerequisites\n",
        "\n",
        "We will be using a basic agent with a search tool here."
      ]
    },
    {
      "cell_type": "code",
      "execution_count": 1,
      "id": "8b323f43-328b-4b4b-88b0-6c84dc0a1d60",
      "metadata": {
        "colab": {
          "base_uri": "https://localhost:8080/"
        },
        "id": "8b323f43-328b-4b4b-88b0-6c84dc0a1d60",
        "outputId": "1c43c611-4903-48df-d0cc-3aa747827c25"
      },
      "outputs": [
        {
          "output_type": "stream",
          "name": "stdout",
          "text": [
            "\u001b[2K     \u001b[90m━━━━━━━━━━━━━━━━━━━━━━━━━━━━━━━━━━━━━━━━\u001b[0m \u001b[32m817.0/817.0 kB\u001b[0m \u001b[31m9.1 MB/s\u001b[0m eta \u001b[36m0:00:00\u001b[0m\n",
            "\u001b[2K     \u001b[90m━━━━━━━━━━━━━━━━━━━━━━━━━━━━━━━━━━━━━━━━\u001b[0m \u001b[32m44.4/44.4 kB\u001b[0m \u001b[31m4.2 MB/s\u001b[0m eta \u001b[36m0:00:00\u001b[0m\n",
            "\u001b[2K     \u001b[90m━━━━━━━━━━━━━━━━━━━━━━━━━━━━━━━━━━━━━━━━\u001b[0m \u001b[32m171.6/171.6 kB\u001b[0m \u001b[31m13.2 MB/s\u001b[0m eta \u001b[36m0:00:00\u001b[0m\n",
            "\u001b[2K     \u001b[90m━━━━━━━━━━━━━━━━━━━━━━━━━━━━━━━━━━━━━━━━\u001b[0m \u001b[32m1.7/1.7 MB\u001b[0m \u001b[31m19.5 MB/s\u001b[0m eta \u001b[36m0:00:00\u001b[0m\n",
            "\u001b[2K     \u001b[90m━━━━━━━━━━━━━━━━━━━━━━━━━━━━━━━━━━━━━━━━\u001b[0m \u001b[32m246.4/246.4 kB\u001b[0m \u001b[31m15.1 MB/s\u001b[0m eta \u001b[36m0:00:00\u001b[0m\n",
            "\u001b[2K     \u001b[90m━━━━━━━━━━━━━━━━━━━━━━━━━━━━━━━━━━━━━━━━\u001b[0m \u001b[32m62.1/62.1 kB\u001b[0m \u001b[31m6.3 MB/s\u001b[0m eta \u001b[36m0:00:00\u001b[0m\n",
            "\u001b[2K     \u001b[90m━━━━━━━━━━━━━━━━━━━━━━━━━━━━━━━━━━━━━━━━\u001b[0m \u001b[32m226.7/226.7 kB\u001b[0m \u001b[31m13.9 MB/s\u001b[0m eta \u001b[36m0:00:00\u001b[0m\n",
            "\u001b[2K     \u001b[90m━━━━━━━━━━━━━━━━━━━━━━━━━━━━━━━━━━━━━━━━\u001b[0m \u001b[32m1.8/1.8 MB\u001b[0m \u001b[31m32.7 MB/s\u001b[0m eta \u001b[36m0:00:00\u001b[0m\n",
            "\u001b[2K     \u001b[90m━━━━━━━━━━━━━━━━━━━━━━━━━━━━━━━━━━━━━━━━\u001b[0m \u001b[32m49.4/49.4 kB\u001b[0m \u001b[31m5.4 MB/s\u001b[0m eta \u001b[36m0:00:00\u001b[0m\n",
            "\u001b[2K     \u001b[90m━━━━━━━━━━━━━━━━━━━━━━━━━━━━━━━━━━━━━━━━\u001b[0m \u001b[32m138.5/138.5 kB\u001b[0m \u001b[31m13.6 MB/s\u001b[0m eta \u001b[36m0:00:00\u001b[0m\n",
            "\u001b[2K     \u001b[90m━━━━━━━━━━━━━━━━━━━━━━━━━━━━━━━━━━━━━━━━\u001b[0m \u001b[32m75.6/75.6 kB\u001b[0m \u001b[31m7.5 MB/s\u001b[0m eta \u001b[36m0:00:00\u001b[0m\n",
            "\u001b[2K     \u001b[90m━━━━━━━━━━━━━━━━━━━━━━━━━━━━━━━━━━━━━━━━\u001b[0m \u001b[32m77.8/77.8 kB\u001b[0m \u001b[31m3.8 MB/s\u001b[0m eta \u001b[36m0:00:00\u001b[0m\n",
            "\u001b[2K     \u001b[90m━━━━━━━━━━━━━━━━━━━━━━━━━━━━━━━━━━━━━━━━\u001b[0m \u001b[32m58.3/58.3 kB\u001b[0m \u001b[31m2.2 MB/s\u001b[0m eta \u001b[36m0:00:00\u001b[0m\n",
            "\u001b[?25h"
          ]
        }
      ],
      "source": [
        "%pip install -U --quiet  langchain langgraph langchain_openai langchain-experimental\n"
      ]
    },
    {
      "cell_type": "code",
      "execution_count": 2,
      "id": "3368f330-cad6-4d35-a291-68fbf4389d98",
      "metadata": {
        "colab": {
          "base_uri": "https://localhost:8080/"
        },
        "id": "3368f330-cad6-4d35-a291-68fbf4389d98",
        "outputId": "9c4aae0b-48c2-4bc2-8817-69c9a70d3b67"
      },
      "outputs": [
        {
          "name": "stdout",
          "output_type": "stream",
          "text": [
            "OPENAI_API_KEY··········\n"
          ]
        }
      ],
      "source": [
        "import getpass\n",
        "import os\n",
        "\n",
        "\n",
        "def _set_if_undefined(var: str) -> None:\n",
        "    if os.environ.get(var):\n",
        "        return\n",
        "    os.environ[var] = getpass.getpass(var)\n",
        "\n",
        "\n",
        "# Optional: Configure tracing to visualize and debug the agent\n",
        "#_set_if_undefined(\"LANGCHAIN_API_KEY\")\n",
        "#os.environ[\"LANGCHAIN_TRACING_V2\"] = \"true\"\n",
        "os.environ[\"LANGCHAIN_PROJECT\"] = \"Reflection\"\n",
        "#OPENAI_API_KEY = getpass()\n",
        "_set_if_undefined(\"OPENAI_API_KEY\")\n",
        "#_set_if_undefined(\"FIREWORKS_API_KEY\")"
      ]
    },
    {
      "cell_type": "markdown",
      "id": "f27bcc4a-aaa5-46bd-8163-3e0e90cb66e6",
      "metadata": {
        "id": "f27bcc4a-aaa5-46bd-8163-3e0e90cb66e6"
      },
      "source": [
        "## Generate\n",
        "\n",
        "For our example, we will create a \"5 paragraph essay\" generator. First, create the generator:\n"
      ]
    },
    {
      "cell_type": "code",
      "execution_count": 20,
      "id": "cc10028f-9cef-4936-9419-cbdf06d24f1e",
      "metadata": {
        "id": "cc10028f-9cef-4936-9419-cbdf06d24f1e"
      },
      "outputs": [],
      "source": [
        "from langchain_openai import ChatOpenAI\n",
        "from langchain_core.messages import AIMessage, BaseMessage, HumanMessage\n",
        "from langchain_core.prompts import ChatPromptTemplate, MessagesPlaceholder\n",
        "\n",
        "prompt = ChatPromptTemplate.from_messages(\n",
        "    [\n",
        "        (\n",
        "            \"system\",\n",
        "            \" You are a professional SQL expert. Given the following SQL tables, your job is to write queries given a user’s request.\\n  Table orders \\n  id int primary key \\n  user_id int not null, unique \\n  status varchar \\n  created_at varchar \\n  \\n Table order_items   \\n  order_id int \\n  product_id int \\n  quantity int \\n \\n Table products   \\n  id int primary key \\n  name varchar \\n  merchant_id int not null \\n  price int \\n  status varchar \\n  created_at varchar \\n  category_id int \\n \\n Table users  \\n  id int primary key \\n  full_name varchar \\n  email varchar unique \\n  gender varchar \\n  date_of_birth varchar \\n  created_at varchar \\n  country_code int \\n \"\n",
        "            \" Generate the best essay possible for the user's request.\"\n",
        "            \" If the user provides critique, respond with a revised version of your previous attempts.\",\n",
        "        ),\n",
        "        MessagesPlaceholder(variable_name=\"messages\"),\n",
        "    ]\n",
        ")\n",
        "llm = ChatOpenAI(model=\"gpt-3.5-turbo\",temperature=0.7)\n",
        "generate = prompt | llm"
      ]
    },
    {
      "cell_type": "code",
      "execution_count": 21,
      "id": "9bbe25dc-fd1e-4ed5-a3c8-fed830b46d12",
      "metadata": {
        "colab": {
          "base_uri": "https://localhost:8080/"
        },
        "id": "9bbe25dc-fd1e-4ed5-a3c8-fed830b46d12",
        "outputId": "f4e24a9c-1af8-4053-ba88-7a3c2ee03747"
      },
      "outputs": [
        {
          "output_type": "stream",
          "name": "stdout",
          "text": [
            "To find the top 5 customers based on sales in the current year, you can use the following SQL query:\n",
            "\n",
            "```sql\n",
            "WITH customer_sales AS (\n",
            "    SELECT u.id AS user_id, u.full_name AS customer_name, SUM(p.price * oi.quantity) AS total_sales\n",
            "    FROM users u\n",
            "    JOIN orders o ON u.id = o.user_id\n",
            "    JOIN order_items oi ON o.id = oi.order_id\n",
            "    JOIN products p ON oi.product_id = p.id\n",
            "    WHERE YEAR(o.created_at) = YEAR(CURRENT_DATE())\n",
            "    GROUP BY u.id, u.full_name\n",
            ")\n",
            "\n",
            "SELECT customer_name, total_sales\n",
            "FROM customer_sales\n",
            "ORDER BY total_sales DESC\n",
            "LIMIT 5;\n",
            "```\n",
            "\n",
            "In this query:\n",
            "1. We first calculate the total sales for each customer by joining the `users`, `orders`, `order_items`, and `products` tables.\n",
            "2. We filter the orders based on the current year using the `YEAR()` function and `CURRENT_DATE()` function.\n",
            "3. We group the results by user_id and full_name and calculate the total sales.\n",
            "4. Finally, we select the customer_name and total_sales from the subquery and order them by total_sales in descending order, limiting the results to the top 5 customers."
          ]
        }
      ],
      "source": [
        "sqlquery = \"\"\n",
        "request = HumanMessage(\n",
        "    content=\"Write a SQL query which gives Top 5 Customers based on Sales in current year\"\n",
        ")\n",
        "for chunk in generate.stream({\"messages\": [request]}):\n",
        "    print(chunk.content, end=\"\")\n",
        "    sqlquery += chunk.content"
      ]
    },
    {
      "cell_type": "markdown",
      "id": "b0b276e7-c392-4eec-be75-c77bd130379d",
      "metadata": {
        "id": "b0b276e7-c392-4eec-be75-c77bd130379d"
      },
      "source": [
        "### Reflect"
      ]
    },
    {
      "cell_type": "code",
      "execution_count": 22,
      "id": "a705be92-88c0-4f4f-b4c2-cdcd9af8cb2c",
      "metadata": {
        "id": "a705be92-88c0-4f4f-b4c2-cdcd9af8cb2c"
      },
      "outputs": [],
      "source": [
        "reflection_prompt = ChatPromptTemplate.from_messages(\n",
        "    [\n",
        "        (\n",
        "            \"system\",\n",
        "            \"You are a SQL SME who is grading an SQL submission. Generate critique and recommendations for the user's submission.\"\n",
        "            \" Provide detailed recommendations on sql query optimization, including number of columns in select query, joins, group by etc.\",\n",
        "        ),\n",
        "        MessagesPlaceholder(variable_name=\"messages\"),\n",
        "    ]\n",
        ")\n",
        "reflect = reflection_prompt | llm"
      ]
    },
    {
      "cell_type": "code",
      "execution_count": 23,
      "id": "16c5eb2a-8bce-48ab-b87d-9dacb9b64ac6",
      "metadata": {
        "colab": {
          "base_uri": "https://localhost:8080/"
        },
        "id": "16c5eb2a-8bce-48ab-b87d-9dacb9b64ac6",
        "outputId": "175a6c62-27ce-4199-c52e-7025607b500c"
      },
      "outputs": [
        {
          "output_type": "stream",
          "name": "stdout",
          "text": [
            "Overall, the SQL query you provided is on the right track for finding the top 5 customers based on sales in the current year. Here are some critique and recommendations for optimization:\n",
            "\n",
            "1. **Column Selection**: Since we are only interested in the top 5 customers based on sales, you could optimize the query by selecting only the necessary columns in the final output. In this case, selecting just the `customer_name` would be sufficient as we are ranking customers based on sales.\n",
            "\n",
            "2. **Indexing**: To improve query performance, ensure that the columns used in join conditions and filtering (such as `user_id`, `order_id`, `product_id`, `created_at`) are properly indexed in the respective tables.\n",
            "\n",
            "3. **Subquery vs. Common Table Expression (CTE)**: While using a CTE is a good practice for readability and maintainability, in some cases, using a subquery might perform better depending on the database engine's query optimizer. You can test both approaches to see which one works more efficiently for your dataset.\n",
            "\n",
            "4. **Joins**: The query uses INNER JOINs to retrieve the data. Ensure that the join conditions are correct and that there are no unnecessary joins that could impact performance.\n",
            "\n",
            "5. **Group By**: Since the query is already aggregating sales at the customer level, the GROUP BY clause is necessary. Ensure that the grouping is done correctly to avoid incorrect results.\n",
            "\n",
            "6. **Performance Tuning**: Consider the volume of data in your tables. If the tables are large, optimizing the query by creating indexes, partitioning tables, or using query hints can improve performance.\n",
            "\n",
            "Here is an optimized version of the query considering the above points:\n",
            "\n",
            "```sql\n",
            "WITH customer_sales AS (\n",
            "    SELECT u.full_name AS customer_name, SUM(p.price * oi.quantity) AS total_sales\n",
            "    FROM users u\n",
            "    JOIN orders o ON u.id = o.user_id\n",
            "    JOIN order_items oi ON o.id = oi.order_id\n",
            "    JOIN products p ON oi.product_id = p.id\n",
            "    WHERE YEAR(o.created_at) = YEAR(CURRENT_DATE())\n",
            "    GROUP BY u.full_name\n",
            ")\n",
            "\n",
            "SELECT customer_name\n",
            "FROM customer_sales\n",
            "ORDER BY total_sales DESC\n",
            "LIMIT 5;\n",
            "```\n",
            "\n",
            "By following the optimization recommendations provided, you can enhance the query performance and efficiency when identifying the top 5 customers based on sales in the current year."
          ]
        }
      ],
      "source": [
        "reflection = \"\"\n",
        "for chunk in reflect.stream({\"messages\": [request, HumanMessage(content=sqlquery)]}):\n",
        "    print(chunk.content, end=\"\")\n",
        "    reflection += chunk.content"
      ]
    },
    {
      "cell_type": "markdown",
      "id": "6daf926c-1174-4e96-91b9-57c57cfce40d",
      "metadata": {
        "id": "6daf926c-1174-4e96-91b9-57c57cfce40d"
      },
      "source": [
        "### Repeat\n",
        "\n",
        "And... that's all there is too it! You can repeat in a loop for a fixed number of steps, or use an LLM (or other check) to decide when the finished product is good enough."
      ]
    },
    {
      "cell_type": "code",
      "execution_count": 24,
      "id": "dfbf99a8-3aa0-4e09-936e-8452c35fa84d",
      "metadata": {
        "colab": {
          "base_uri": "https://localhost:8080/"
        },
        "id": "dfbf99a8-3aa0-4e09-936e-8452c35fa84d",
        "outputId": "81165aec-a4ce-42f6-d311-8d08ccba36d0"
      },
      "outputs": [
        {
          "output_type": "stream",
          "name": "stdout",
          "text": [
            "Thank you for the valuable feedback and suggestions. Here is the revised SQL query incorporating the optimizations:\n",
            "\n",
            "```sql\n",
            "WITH customer_sales AS (\n",
            "    SELECT u.full_name AS customer_name, SUM(p.price * oi.quantity) AS total_sales\n",
            "    FROM users u\n",
            "    JOIN orders o ON u.id = o.user_id\n",
            "    JOIN order_items oi ON o.id = oi.order_id\n",
            "    JOIN products p ON oi.product_id = p.id\n",
            "    WHERE YEAR(o.created_at) = YEAR(CURRENT_DATE())\n",
            "    GROUP BY u.full_name\n",
            ")\n",
            "\n",
            "SELECT customer_name\n",
            "FROM customer_sales\n",
            "ORDER BY total_sales DESC\n",
            "LIMIT 5;\n",
            "```\n",
            "\n",
            "This query now selects only the necessary column `customer_name` for the final output, ensuring optimal performance. The join conditions, grouping, and ordering remain intact to accurately identify the top 5 customers based on sales in the current year. Additionally, implementing proper indexing on relevant columns can further enhance the query's efficiency."
          ]
        }
      ],
      "source": [
        "for chunk in generate.stream(\n",
        "    {\"messages\": [request, AIMessage(content=sqlquery), HumanMessage(content=reflection)]}\n",
        "):\n",
        "    print(chunk.content, end=\"\")"
      ]
    },
    {
      "cell_type": "markdown",
      "id": "b63a9d93-a14d-4e41-a4bb-a4cd31713f44",
      "metadata": {
        "id": "b63a9d93-a14d-4e41-a4bb-a4cd31713f44"
      },
      "source": [
        "## Define graph\n",
        "\n",
        "Now that we've shown each step in isolation, we can wire it up in a graph."
      ]
    },
    {
      "cell_type": "code",
      "execution_count": 25,
      "id": "9e9a9d7c-5d2e-4194-b745-4511ec20db76",
      "metadata": {
        "id": "9e9a9d7c-5d2e-4194-b745-4511ec20db76"
      },
      "outputs": [],
      "source": [
        "from typing import List, Sequence\n",
        "\n",
        "from langgraph.graph import END, MessageGraph\n",
        "\n",
        "\n",
        "async def generation_node(state: Sequence[BaseMessage]):\n",
        "    return await generate.ainvoke({\"messages\": state})\n",
        "\n",
        "\n",
        "async def reflection_node(messages: Sequence[BaseMessage]) -> List[BaseMessage]:\n",
        "    # Other messages we need to adjust\n",
        "    cls_map = {\"ai\": HumanMessage, \"human\": AIMessage}\n",
        "    # First message is the original user request. We hold it the same for all nodes\n",
        "    translated = [messages[0]] + [\n",
        "        cls_map[msg.type](content=msg.content) for msg in messages[1:]\n",
        "    ]\n",
        "    res = await reflect.ainvoke({\"messages\": translated})\n",
        "    # We treat the output of this as human feedback for the generator\n",
        "    return HumanMessage(content=res.content)\n",
        "\n",
        "\n",
        "builder = MessageGraph()\n",
        "builder.add_node(\"generate\", generation_node)\n",
        "builder.add_node(\"reflect\", reflection_node)\n",
        "builder.set_entry_point(\"generate\")\n",
        "\n",
        "\n",
        "def should_continue(state: List[BaseMessage]):\n",
        "    if len(state) > 6:\n",
        "        # End after 3 iterations\n",
        "        return END\n",
        "    return \"reflect\"\n",
        "\n",
        "\n",
        "builder.add_conditional_edges(\"generate\", should_continue)\n",
        "builder.add_edge(\"reflect\", \"generate\")\n",
        "graph = builder.compile()"
      ]
    },
    {
      "cell_type": "code",
      "execution_count": 26,
      "id": "06263a07-8a15-4ec3-b692-1c6cef3b1c1f",
      "metadata": {
        "colab": {
          "base_uri": "https://localhost:8080/"
        },
        "id": "06263a07-8a15-4ec3-b692-1c6cef3b1c1f",
        "outputId": "e696cc07-1c09-489c-92c6-5aecd3684ec4"
      },
      "outputs": [
        {
          "output_type": "stream",
          "name": "stdout",
          "text": [
            "{'generate': AIMessage(content='To find the top 5 customers based on sales in the current year, we need to join the `users`, `orders`, `order_items`, and `products` tables. We will need to calculate the total sales amount for each user in the current year and then rank them accordingly. Here is the SQL query to achieve this:\\n\\n```sql\\nSELECT u.id AS user_id, u.full_name AS customer_name, SUM(oi.quantity * p.price) AS total_sales\\nFROM users u\\nJOIN orders o ON u.id = o.user_id\\nJOIN order_items oi ON o.id = oi.order_id\\nJOIN products p ON oi.product_id = p.id\\nWHERE YEAR(o.created_at) = YEAR(CURDATE())\\nGROUP BY u.id, u.full_name\\nORDER BY total_sales DESC\\nLIMIT 5;\\n```\\n\\nThis query will give you the top 5 customers based on sales in the current year, displaying their user ID, full name, and total sales amount.')}\n",
            "---\n",
            "{'reflect': HumanMessage(content=\"Your SQL query is on the right track to find the top 5 customers based on sales in the current year. Here are some recommendations for optimizing the query:\\n\\n1. **Select only necessary columns**: In the current query, you are selecting `u.id` and `u.full_name` columns. Since you are interested in the top 5 customers based on sales, you may only need to select `u.id`, `u.full_name`, and `total_sales` columns in the final result.\\n\\n2. **Indexing**: Ensure that the columns involved in joins and the `created_at` column in the `orders` table are indexed. This can significantly improve the query performance, especially on large datasets.\\n\\n3. **Use of analytical functions**: Instead of using `GROUP BY` and `SUM` to calculate total sales, you can use window functions like `RANK()` or `ROW_NUMBER()` to assign a rank to each customer based on sales. This can help you avoid the need for a subquery or temporary table.\\n\\n4. **Performance optimization**: Avoid using functions like `YEAR()` on columns in the `WHERE` clause as they can impact the query's performance. Instead, consider using a range-based condition like `o.created_at >= DATE_FORMAT(NOW(), '%Y-01-01')`.\\n\\nHere is an optimized version of the query incorporating the above recommendations:\\n\\n```sql\\nSELECT user_id, customer_name, total_sales\\nFROM (\\n    SELECT u.id AS user_id, u.full_name AS customer_name, \\n           SUM(oi.quantity * p.price) AS total_sales,\\n           RANK() OVER (ORDER BY SUM(oi.quantity * p.price) DESC) AS sales_rank\\n    FROM users u\\n    JOIN orders o ON u.id = o.user_id\\n    JOIN order_items oi ON o.id = oi.order_id\\n    JOIN products p ON oi.product_id = p.id\\n    WHERE o.created_at >= DATE_FORMAT(NOW(), '%Y-01-01')\\n    GROUP BY u.id, u.full_name\\n) ranked_sales\\nWHERE sales_rank <= 5;\\n```\\n\\nBy making these optimizations, you can enhance the query's performance and efficiency when identifying the top 5 customers based on sales in the current year.\")}\n",
            "---\n",
            "{'generate': AIMessage(content=\"Thank you for the valuable feedback and suggestions. Here is the revised SQL query that incorporates the optimizations:\\n\\n```sql\\nSELECT user_id, customer_name, total_sales\\nFROM (\\n    SELECT u.id AS user_id, u.full_name AS customer_name, \\n           SUM(oi.quantity * p.price) AS total_sales,\\n           RANK() OVER (ORDER BY SUM(oi.quantity * p.price) DESC) AS sales_rank\\n    FROM users u\\n    JOIN orders o ON u.id = o.user_id\\n    JOIN order_items oi ON o.id = oi.order_id\\n    JOIN products p ON oi.product_id = p.id\\n    WHERE o.created_at >= DATE_FORMAT(NOW(), '%Y-01-01')\\n    GROUP BY u.id, u.full_name\\n) ranked_sales\\nWHERE sales_rank <= 5;\\n```\\n\\nThis revised query should now be more optimized and efficient in identifying the top 5 customers based on sales in the current year.\")}\n",
            "---\n",
            "{'reflect': HumanMessage(content=\"Great job on incorporating the optimizations into your SQL query. This revised query is much more efficient and should perform well in identifying the top 5 customers based on sales in the current year. \\n\\nBy utilizing window functions and avoiding unnecessary columns in the final result set, you have improved the query's performance and readability. \\n\\nIf you have any more queries or need further assistance with SQL optimization or any other topic, feel free to ask! Keep up the good work!\")}\n",
            "---\n",
            "{'generate': AIMessage(content=\"Thank you for the positive feedback! I'm glad the revised query meets your expectations. If you have any more SQL queries or need assistance with optimization or any other database-related tasks in the future, feel free to reach out. I'm here to help!\")}\n",
            "---\n",
            "{'reflect': HumanMessage(content=\"You're welcome! I appreciate your willingness to learn and improve your SQL skills. If you have any more SQL queries or need assistance with optimization or any other database-related tasks in the future, don't hesitate to ask. Keep up the great work, and happy querying!\")}\n",
            "---\n",
            "{'generate': AIMessage(content='Thank you for your encouragement and support! I will continue to improve my SQL skills and be ready to assist with any queries or database tasks you may have in the future. If you need any assistance or have any questions, feel free to reach out. Happy querying to you too!')}\n",
            "---\n",
            "{'__end__': [HumanMessage(content='Write a SQL query which gives Top 5 Customers based on Sales in current year'), AIMessage(content='To find the top 5 customers based on sales in the current year, we need to join the `users`, `orders`, `order_items`, and `products` tables. We will need to calculate the total sales amount for each user in the current year and then rank them accordingly. Here is the SQL query to achieve this:\\n\\n```sql\\nSELECT u.id AS user_id, u.full_name AS customer_name, SUM(oi.quantity * p.price) AS total_sales\\nFROM users u\\nJOIN orders o ON u.id = o.user_id\\nJOIN order_items oi ON o.id = oi.order_id\\nJOIN products p ON oi.product_id = p.id\\nWHERE YEAR(o.created_at) = YEAR(CURDATE())\\nGROUP BY u.id, u.full_name\\nORDER BY total_sales DESC\\nLIMIT 5;\\n```\\n\\nThis query will give you the top 5 customers based on sales in the current year, displaying their user ID, full name, and total sales amount.'), HumanMessage(content=\"Your SQL query is on the right track to find the top 5 customers based on sales in the current year. Here are some recommendations for optimizing the query:\\n\\n1. **Select only necessary columns**: In the current query, you are selecting `u.id` and `u.full_name` columns. Since you are interested in the top 5 customers based on sales, you may only need to select `u.id`, `u.full_name`, and `total_sales` columns in the final result.\\n\\n2. **Indexing**: Ensure that the columns involved in joins and the `created_at` column in the `orders` table are indexed. This can significantly improve the query performance, especially on large datasets.\\n\\n3. **Use of analytical functions**: Instead of using `GROUP BY` and `SUM` to calculate total sales, you can use window functions like `RANK()` or `ROW_NUMBER()` to assign a rank to each customer based on sales. This can help you avoid the need for a subquery or temporary table.\\n\\n4. **Performance optimization**: Avoid using functions like `YEAR()` on columns in the `WHERE` clause as they can impact the query's performance. Instead, consider using a range-based condition like `o.created_at >= DATE_FORMAT(NOW(), '%Y-01-01')`.\\n\\nHere is an optimized version of the query incorporating the above recommendations:\\n\\n```sql\\nSELECT user_id, customer_name, total_sales\\nFROM (\\n    SELECT u.id AS user_id, u.full_name AS customer_name, \\n           SUM(oi.quantity * p.price) AS total_sales,\\n           RANK() OVER (ORDER BY SUM(oi.quantity * p.price) DESC) AS sales_rank\\n    FROM users u\\n    JOIN orders o ON u.id = o.user_id\\n    JOIN order_items oi ON o.id = oi.order_id\\n    JOIN products p ON oi.product_id = p.id\\n    WHERE o.created_at >= DATE_FORMAT(NOW(), '%Y-01-01')\\n    GROUP BY u.id, u.full_name\\n) ranked_sales\\nWHERE sales_rank <= 5;\\n```\\n\\nBy making these optimizations, you can enhance the query's performance and efficiency when identifying the top 5 customers based on sales in the current year.\"), AIMessage(content=\"Thank you for the valuable feedback and suggestions. Here is the revised SQL query that incorporates the optimizations:\\n\\n```sql\\nSELECT user_id, customer_name, total_sales\\nFROM (\\n    SELECT u.id AS user_id, u.full_name AS customer_name, \\n           SUM(oi.quantity * p.price) AS total_sales,\\n           RANK() OVER (ORDER BY SUM(oi.quantity * p.price) DESC) AS sales_rank\\n    FROM users u\\n    JOIN orders o ON u.id = o.user_id\\n    JOIN order_items oi ON o.id = oi.order_id\\n    JOIN products p ON oi.product_id = p.id\\n    WHERE o.created_at >= DATE_FORMAT(NOW(), '%Y-01-01')\\n    GROUP BY u.id, u.full_name\\n) ranked_sales\\nWHERE sales_rank <= 5;\\n```\\n\\nThis revised query should now be more optimized and efficient in identifying the top 5 customers based on sales in the current year.\"), HumanMessage(content=\"Great job on incorporating the optimizations into your SQL query. This revised query is much more efficient and should perform well in identifying the top 5 customers based on sales in the current year. \\n\\nBy utilizing window functions and avoiding unnecessary columns in the final result set, you have improved the query's performance and readability. \\n\\nIf you have any more queries or need further assistance with SQL optimization or any other topic, feel free to ask! Keep up the good work!\"), AIMessage(content=\"Thank you for the positive feedback! I'm glad the revised query meets your expectations. If you have any more SQL queries or need assistance with optimization or any other database-related tasks in the future, feel free to reach out. I'm here to help!\"), HumanMessage(content=\"You're welcome! I appreciate your willingness to learn and improve your SQL skills. If you have any more SQL queries or need assistance with optimization or any other database-related tasks in the future, don't hesitate to ask. Keep up the great work, and happy querying!\"), AIMessage(content='Thank you for your encouragement and support! I will continue to improve my SQL skills and be ready to assist with any queries or database tasks you may have in the future. If you need any assistance or have any questions, feel free to reach out. Happy querying to you too!')]}\n",
            "---\n"
          ]
        }
      ],
      "source": [
        "async for event in graph.astream(\n",
        "    [\n",
        "        HumanMessage(\n",
        "            content=\"Write a SQL query which gives Top 5 Customers based on Sales in current year\"\n",
        "        )\n",
        "    ],\n",
        "):\n",
        "    print(event)\n",
        "    print(\"---\")"
      ]
    },
    {
      "cell_type": "code",
      "execution_count": 27,
      "id": "394bf0df-fc28-4104-a278-a56c9cb8b10c",
      "metadata": {
        "colab": {
          "base_uri": "https://localhost:8080/"
        },
        "id": "394bf0df-fc28-4104-a278-a56c9cb8b10c",
        "outputId": "53178f74-2382-450a-f183-7afe43fbc75a"
      },
      "outputs": [
        {
          "output_type": "stream",
          "name": "stdout",
          "text": [
            "================================\u001b[1m Human Message \u001b[0m=================================\n",
            "\n",
            "Write a SQL query which gives Top 5 Customers based on Sales in current year\n",
            "\n",
            "==================================\u001b[1m Ai Message \u001b[0m==================================\n",
            "\n",
            "To find the top 5 customers based on sales in the current year, we need to join the `users`, `orders`, `order_items`, and `products` tables. We will need to calculate the total sales amount for each user in the current year and then rank them accordingly. Here is the SQL query to achieve this:\n",
            "\n",
            "```sql\n",
            "SELECT u.id AS user_id, u.full_name AS customer_name, SUM(oi.quantity * p.price) AS total_sales\n",
            "FROM users u\n",
            "JOIN orders o ON u.id = o.user_id\n",
            "JOIN order_items oi ON o.id = oi.order_id\n",
            "JOIN products p ON oi.product_id = p.id\n",
            "WHERE YEAR(o.created_at) = YEAR(CURDATE())\n",
            "GROUP BY u.id, u.full_name\n",
            "ORDER BY total_sales DESC\n",
            "LIMIT 5;\n",
            "```\n",
            "\n",
            "This query will give you the top 5 customers based on sales in the current year, displaying their user ID, full name, and total sales amount.\n",
            "\n",
            "================================\u001b[1m Human Message \u001b[0m=================================\n",
            "\n",
            "Your SQL query is on the right track to find the top 5 customers based on sales in the current year. Here are some recommendations for optimizing the query:\n",
            "\n",
            "1. **Select only necessary columns**: In the current query, you are selecting `u.id` and `u.full_name` columns. Since you are interested in the top 5 customers based on sales, you may only need to select `u.id`, `u.full_name`, and `total_sales` columns in the final result.\n",
            "\n",
            "2. **Indexing**: Ensure that the columns involved in joins and the `created_at` column in the `orders` table are indexed. This can significantly improve the query performance, especially on large datasets.\n",
            "\n",
            "3. **Use of analytical functions**: Instead of using `GROUP BY` and `SUM` to calculate total sales, you can use window functions like `RANK()` or `ROW_NUMBER()` to assign a rank to each customer based on sales. This can help you avoid the need for a subquery or temporary table.\n",
            "\n",
            "4. **Performance optimization**: Avoid using functions like `YEAR()` on columns in the `WHERE` clause as they can impact the query's performance. Instead, consider using a range-based condition like `o.created_at >= DATE_FORMAT(NOW(), '%Y-01-01')`.\n",
            "\n",
            "Here is an optimized version of the query incorporating the above recommendations:\n",
            "\n",
            "```sql\n",
            "SELECT user_id, customer_name, total_sales\n",
            "FROM (\n",
            "    SELECT u.id AS user_id, u.full_name AS customer_name, \n",
            "           SUM(oi.quantity * p.price) AS total_sales,\n",
            "           RANK() OVER (ORDER BY SUM(oi.quantity * p.price) DESC) AS sales_rank\n",
            "    FROM users u\n",
            "    JOIN orders o ON u.id = o.user_id\n",
            "    JOIN order_items oi ON o.id = oi.order_id\n",
            "    JOIN products p ON oi.product_id = p.id\n",
            "    WHERE o.created_at >= DATE_FORMAT(NOW(), '%Y-01-01')\n",
            "    GROUP BY u.id, u.full_name\n",
            ") ranked_sales\n",
            "WHERE sales_rank <= 5;\n",
            "```\n",
            "\n",
            "By making these optimizations, you can enhance the query's performance and efficiency when identifying the top 5 customers based on sales in the current year.\n",
            "\n",
            "==================================\u001b[1m Ai Message \u001b[0m==================================\n",
            "\n",
            "Thank you for the valuable feedback and suggestions. Here is the revised SQL query that incorporates the optimizations:\n",
            "\n",
            "```sql\n",
            "SELECT user_id, customer_name, total_sales\n",
            "FROM (\n",
            "    SELECT u.id AS user_id, u.full_name AS customer_name, \n",
            "           SUM(oi.quantity * p.price) AS total_sales,\n",
            "           RANK() OVER (ORDER BY SUM(oi.quantity * p.price) DESC) AS sales_rank\n",
            "    FROM users u\n",
            "    JOIN orders o ON u.id = o.user_id\n",
            "    JOIN order_items oi ON o.id = oi.order_id\n",
            "    JOIN products p ON oi.product_id = p.id\n",
            "    WHERE o.created_at >= DATE_FORMAT(NOW(), '%Y-01-01')\n",
            "    GROUP BY u.id, u.full_name\n",
            ") ranked_sales\n",
            "WHERE sales_rank <= 5;\n",
            "```\n",
            "\n",
            "This revised query should now be more optimized and efficient in identifying the top 5 customers based on sales in the current year.\n",
            "\n",
            "================================\u001b[1m Human Message \u001b[0m=================================\n",
            "\n",
            "Great job on incorporating the optimizations into your SQL query. This revised query is much more efficient and should perform well in identifying the top 5 customers based on sales in the current year. \n",
            "\n",
            "By utilizing window functions and avoiding unnecessary columns in the final result set, you have improved the query's performance and readability. \n",
            "\n",
            "If you have any more queries or need further assistance with SQL optimization or any other topic, feel free to ask! Keep up the good work!\n",
            "\n",
            "==================================\u001b[1m Ai Message \u001b[0m==================================\n",
            "\n",
            "Thank you for the positive feedback! I'm glad the revised query meets your expectations. If you have any more SQL queries or need assistance with optimization or any other database-related tasks in the future, feel free to reach out. I'm here to help!\n",
            "\n",
            "================================\u001b[1m Human Message \u001b[0m=================================\n",
            "\n",
            "You're welcome! I appreciate your willingness to learn and improve your SQL skills. If you have any more SQL queries or need assistance with optimization or any other database-related tasks in the future, don't hesitate to ask. Keep up the great work, and happy querying!\n",
            "\n",
            "==================================\u001b[1m Ai Message \u001b[0m==================================\n",
            "\n",
            "Thank you for your encouragement and support! I will continue to improve my SQL skills and be ready to assist with any queries or database tasks you may have in the future. If you need any assistance or have any questions, feel free to reach out. Happy querying to you too!\n"
          ]
        }
      ],
      "source": [
        "ChatPromptTemplate.from_messages(event[END]).pretty_print()"
      ]
    },
    {
      "cell_type": "markdown",
      "id": "0fa62df2-e8ee-40dd-ac95-9d982eae6079",
      "metadata": {
        "id": "0fa62df2-e8ee-40dd-ac95-9d982eae6079"
      },
      "source": [
        "## Conclusion\n",
        "\n",
        "Now that you've applied reflection to an LLM agent, I'll note one thing: self-reflection is inherantly cyclic: it is much more effective if the reflection step has additional context or feedback (from tool observations, checks, etc.). If, like in the scenario above, the reflection step simply prompts the LLM to reflect on its output, it can still benefit the output quality (since the LLM then has multiple \"shots\" at getting a good output), but it's less guaranteed.\n"
      ]
    },
    {
      "cell_type": "code",
      "execution_count": null,
      "id": "7c0e3efd-7f54-410e-bd31-36185a46b9a8",
      "metadata": {
        "id": "7c0e3efd-7f54-410e-bd31-36185a46b9a8"
      },
      "outputs": [],
      "source": []
    }
  ],
  "metadata": {
    "kernelspec": {
      "display_name": "Python 3 (ipykernel)",
      "language": "python",
      "name": "python3"
    },
    "language_info": {
      "codemirror_mode": {
        "name": "ipython",
        "version": 3
      },
      "file_extension": ".py",
      "mimetype": "text/x-python",
      "name": "python",
      "nbconvert_exporter": "python",
      "pygments_lexer": "ipython3",
      "version": "3.11.2"
    },
    "colab": {
      "provenance": []
    }
  },
  "nbformat": 4,
  "nbformat_minor": 5
}